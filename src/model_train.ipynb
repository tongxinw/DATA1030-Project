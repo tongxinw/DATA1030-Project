{
 "cells": [
  {
   "cell_type": "code",
   "execution_count": 1,
   "metadata": {},
   "outputs": [],
   "source": [
    "import pandas as pd\n",
    "import numpy as np\n",
    "import seaborn as sns\n",
    "import matplotlib\n",
    "from matplotlib import pylab as plt\n",
    "from sklearn.preprocessing import OneHotEncoder\n",
    "from sklearn.preprocessing import StandardScaler\n",
    "from sklearn.impute import SimpleImputer\n",
    "from sklearn.model_selection import KFold\n",
    "from sklearn.model_selection import train_test_split\n",
    "from sklearn.linear_model import Lasso\n",
    "from sklearn.ensemble import RandomForestRegressor\n",
    "from sklearn.metrics import mean_squared_error\n",
    "from collections import defaultdict\n",
    "from sklearn.svm import SVR\n",
    "from sklearn.compose import ColumnTransformer\n",
    "from sklearn.pipeline import Pipeline\n",
    "from sklearn.pipeline import make_pipeline\n",
    "from sklearn.model_selection import GridSearchCV"
   ]
  },
  {
   "cell_type": "code",
   "execution_count": 2,
   "metadata": {},
   "outputs": [],
   "source": [
    "import os\n",
    "os.path.abspath('USvideos.csv')\n",
    "path = r\"/home/jovyan/DATA1030/DATA1030-Project/data/USvideos.csv\""
   ]
  },
  {
   "cell_type": "markdown",
   "metadata": {},
   "source": [
    "**Load Data set**"
   ]
  },
  {
   "cell_type": "code",
   "execution_count": 3,
   "metadata": {},
   "outputs": [],
   "source": [
    "df = pd.read_csv(path)"
   ]
  },
  {
   "cell_type": "markdown",
   "metadata": {},
   "source": [
    "**Adding Columns to Data**"
   ]
  },
  {
   "cell_type": "code",
   "execution_count": 4,
   "metadata": {},
   "outputs": [
    {
     "name": "stdout",
     "output_type": "stream",
     "text": [
      "Data Frame shape:  (40949, 16)\n",
      "video_id                  object\n",
      "trending_date             object\n",
      "title                     object\n",
      "channel_title             object\n",
      "category_id                int64\n",
      "publish_time              object\n",
      "tags                      object\n",
      "views                      int64\n",
      "likes                      int64\n",
      "dislikes                   int64\n",
      "comment_count              int64\n",
      "thumbnail_link            object\n",
      "comments_disabled           bool\n",
      "ratings_disabled            bool\n",
      "video_error_or_removed      bool\n",
      "description               object\n",
      "dtype: object\n"
     ]
    }
   ],
   "source": [
    "print(\"Data Frame shape: \", df.shape)\n",
    "# print(df.nunique())\n",
    "print(df.dtypes)\n",
    "# change catagory_id to catagory name\n",
    "df['category_name'] = np.nan\n",
    "\n",
    "df.loc[(df[\"category_id\"] == 1),\"category_name\"] = 'Film and Animation'\n",
    "df.loc[(df[\"category_id\"] == 2),\"category_name\"] = 'Cars and Vehicles'\n",
    "df.loc[(df[\"category_id\"] == 10),\"category_name\"] = 'Music'\n",
    "df.loc[(df[\"category_id\"] == 15),\"category_name\"] = 'Pets and Animals'\n",
    "df.loc[(df[\"category_id\"] == 17),\"category_name\"] = 'Sport'\n",
    "df.loc[(df[\"category_id\"] == 19),\"category_name\"] = 'Travel and Events'\n",
    "df.loc[(df[\"category_id\"] == 20),\"category_name\"] = 'Gaming'\n",
    "df.loc[(df[\"category_id\"] == 22),\"category_name\"] = 'People and Blogs'\n",
    "df.loc[(df[\"category_id\"] == 23),\"category_name\"] = 'Comedy'\n",
    "df.loc[(df[\"category_id\"] == 24),\"category_name\"] = 'Entertainment'\n",
    "df.loc[(df[\"category_id\"] == 25),\"category_name\"] = 'News and Politics'\n",
    "df.loc[(df[\"category_id\"] == 26),\"category_name\"] = 'How to and Style'\n",
    "df.loc[(df[\"category_id\"] == 27),\"category_name\"] = 'Education'\n",
    "df.loc[(df[\"category_id\"] == 28),\"category_name\"] = 'Science and Technology'\n",
    "df.loc[(df[\"category_id\"] == 29),\"category_name\"] = 'Non Profits and Activism'\n",
    "df.loc[(df[\"category_id\"] == 43),\"category_name\"] = 'Shows'"
   ]
  },
  {
   "cell_type": "markdown",
   "metadata": {},
   "source": [
    "**Check missing values**"
   ]
  },
  {
   "cell_type": "code",
   "execution_count": null,
   "metadata": {},
   "outputs": [],
   "source": [
    "print(df.isnull().sum(axis=0)/df.shape[0])\n",
    "print(sum(df.isnull().sum(axis=1)!=0)/df.shape[0])"
   ]
  },
  {
   "cell_type": "code",
   "execution_count": 5,
   "metadata": {},
   "outputs": [
    {
     "name": "stderr",
     "output_type": "stream",
     "text": [
      "/opt/conda/lib/python3.7/site-packages/pandas/core/series.py:853: RuntimeWarning: divide by zero encountered in log10\n",
      "  result = getattr(ufunc, method)(*inputs, **kwargs)\n"
     ]
    }
   ],
   "source": [
    "# add more data based on current data set\n",
    "df['like_rate'] =  df['likes'] / df['views'] * 100\n",
    "df['dislike_rate'] =  df['dislikes']/df['views'] * 100\n",
    "df['comment_log'] =  np.log10(df['comment_count'])\n",
    "df['view_log'] = np.log10(df['views'])\n",
    "df['interaction_rate'] = (df['likes'] + df['dislikes'] + 2 * df['comment_count'])/df['views'] * 100"
   ]
  },
  {
   "cell_type": "code",
   "execution_count": 6,
   "metadata": {},
   "outputs": [],
   "source": [
    "df[['video_id','title', 'category_name','interaction_rate']].groupby('video_id').agg('max').sort_values(ascending = False, by = 'interaction_rate')\n",
    "group_by_object = df.groupby('video_id').count().sort_values('trending_date', ascending = 'True').reset_index()\n",
    "intermediate = group_by_object[['video_id','trending_date']]\n",
    "intermediate.columns = ['video_id', 'total_trending_days']\n",
    "df = pd.merge(df, intermediate, on='video_id', how='left')\n",
    "df = df.groupby('video_id').agg('max', column= 'views')\n",
    "# df.columns\n",
    "# print(df.shape)\n",
    "# print(df.dtypes)"
   ]
  },
  {
   "cell_type": "code",
   "execution_count": null,
   "metadata": {},
   "outputs": [],
   "source": [
    "# print(df.isnull().sum(axis=0)/df.shape[0])\n",
    "# print(sum(df.isnull().sum(axis=1)!=0)/df.shape[0])"
   ]
  },
  {
   "cell_type": "code",
   "execution_count": null,
   "metadata": {},
   "outputs": [],
   "source": [
    "# df[['title','views','category_name']].sort_values(by='views', ascending=False)[:10]"
   ]
  },
  {
   "cell_type": "code",
   "execution_count": null,
   "metadata": {},
   "outputs": [],
   "source": [
    "# df[['title','views','category_name', 'interaction_rate']].sort_values(by='interaction_rate', ascending=False)[:10]"
   ]
  },
  {
   "cell_type": "code",
   "execution_count": 8,
   "metadata": {},
   "outputs": [
    {
     "data": {
      "image/png": "[encoded data removed]",
      "text/plain": [
       "<Figure size 720x576 with 1 Axes>"
      ]
     },
     "metadata": {
      "needs_background": "light"
     },
     "output_type": "display_data"
    }
   ],
   "source": [
    "# histogram\n",
    "plt.figure(figsize=(10,8))\n",
    "\n",
    "# draw on the figure, define the properties of the line or marker\n",
    "# plt.hist(y,bins=30,log=True)\n",
    "df['total_trending_days'].hist(bins=30,log=True,grid=False)\n",
    "\n",
    "# modify the properties of the figure\n",
    "# axis labels, title, x and y limits, etc.\n",
    "plt.xlabel('total_trending_days', fontsize = 15)\n",
    "plt.ylabel('# of videos', fontsize = 15)\n",
    "plt.title('histogram of the target variable', fontsize = 15)\n",
    "plt.tight_layout()\n",
    "\n",
    "# show the figure in the notebook or save it as a file\n",
    "plt.savefig('/home/jovyan/DATA1030/DATA1030-Project/figures/y_hist.png',dpi=300)\n",
    "plt.show()\n",
    "# os.path.abspath('y_hist.png')"
   ]
  },
  {
   "cell_type": "code",
   "execution_count": null,
   "metadata": {},
   "outputs": [],
   "source": [
    "# which categories are easier to be trending videos\n",
    "\n",
    "print(df['category_name'].value_counts()/df['category_name'].shape)\n",
    "plt.figure(figsize=(12,8))\n",
    "p = sns.countplot(data=df, x = 'category_name')\n",
    "p.set_xticklabels(p.get_xticklabels(), rotation = 90, fontsize = 18)\n",
    "plt.ylabel('Video counts', fontsize=18)\n",
    "plt.title(\"Video counts by Category Names\", fontsize=20)\n",
    "plt.savefig('/home/jovyan/DATA1030/DATA1030-Project/figures/category_count.png',dpi=300, bbox_inches = 'tight')\n",
    "plt.show()"
   ]
  },
  {
   "cell_type": "code",
   "execution_count": null,
   "metadata": {},
   "outputs": [],
   "source": [
    "plt.figure(figsize = (14,9))\n",
    "plt.subplot(211)\n",
    "f2 = sns.boxplot(x='category_name', y='views', data=df)\n",
    "f2.set_xticklabels(f2.get_xticklabels(),rotation=45)\n",
    "f2.set_title(\"Views Distribuition by Category Names\", fontsize=20)\n",
    "f2.set_xlabel(\"\", fontsize=15)\n",
    "f2.set_ylabel(\"Views\", fontsize=15)\n",
    "\n",
    "plt.subplot(212)\n",
    "f = sns.boxplot(x='category_name', y='view_log', data=df)\n",
    "f.set_xticklabels(f.get_xticklabels(),rotation=90, fontsize = 16)\n",
    "f.set_title(\"Log(views) Distribuition by Category Names\", fontsize=20)\n",
    "f.set_xlabel(\"\", fontsize=15)\n",
    "f.set_ylabel(\"log(views)\", fontsize=15)\n",
    "\n",
    "plt.subplots_adjust(hspace = 0.9, top = 0.9)\n",
    "plt.savefig('/home/jovyan/DATA1030/DATA1030-Project/figures/view_category.png',dpi=300, bbox_inches = 'tight')\n",
    "plt.show()"
   ]
  },
  {
   "cell_type": "code",
   "execution_count": null,
   "metadata": {},
   "outputs": [],
   "source": [
    "# correlation matrix\n",
    "plt.figure(figsize=(10,10))\n",
    "# plt.matshow(df.corr(),vmin=-1,vmax=1,cmap='seismic',fignum=0)\n",
    "plt.matshow(df.corr(),vmin=-1,vmax=1,cmap=plt.cm.RdBu,fignum=0)\n",
    "\n",
    "plt.colorbar(label='corr. coeff.')\n",
    "plt.xticks(np.arange(df.corr().shape[0]),list(df.corr().columns),rotation=90, fontsize = 13)\n",
    "plt.yticks(np.arange(df.corr().shape[0]),list(df.corr().columns),fontsize = 13)\n",
    "plt.tight_layout()\n",
    "plt.title('Correlation Matrix', y=-0.2, fontsize=20)\n",
    "plt.savefig('/home/jovyan/DATA1030/DATA1030-Project/figures/corr_coeff.png',dpi=300, bbox_inches = 'tight')\n",
    "plt.show()"
   ]
  },
  {
   "cell_type": "code",
   "execution_count": null,
   "metadata": {},
   "outputs": [],
   "source": [
    "# preprocess feature types one by one\n",
    "# start machine learning \n",
    "num_ftrs = ['views', 'likes', 'dislikes', 'view_log','like_rate', 'dislike_rate', 'interaction_rate']\n",
    "cat_ftrs = ['category_id', 'comments_disabled', 'ratings_disabled', 'video_error_or_removed']\n",
    "\n",
    "# one-hot encoder\n",
    "ohe = OneHotEncoder(sparse=False)\n",
    "si = SimpleImputer(strategy='constant',fill_value='missing')\n",
    "cat_values = ohe.fit_transform(si.fit_transform(df[cat_ftrs]))\n",
    "cat_ftr_names = ohe.get_feature_names()\n",
    "df_cat = pd.DataFrame(data=cat_values,columns = cat_ftr_names)\n",
    "# print(df_cat)\n",
    "\n",
    "# standard scaler\n",
    "ss = StandardScaler()\n",
    "num_values = ss.fit_transform(df[num_ftrs])\n",
    "df_num = pd.DataFrame(data=num_values,columns = num_ftrs)\n",
    "\n",
    "df_preprocessed = pd.concat([df_cat,df_num],axis=1)\n",
    "X = df_preprocessed\n",
    "y = df['total_trending_days']\n",
    "# df_preprocessed['total_trending_days'] = y\n",
    "export_csv = df_preprocessed.to_csv (r'/home/jovyan/DATA1030/DATA1030-Project/data/preprocessed.csv', index = None, header=True) \n",
    "# print(df_preprocessed.shape)\n",
    "# print(df_preprocessed.dtypes)"
   ]
  },
  {
   "cell_type": "code",
   "execution_count": null,
   "metadata": {},
   "outputs": [],
   "source": [
    "# # correlation matrix\n",
    "# plt.figure(figsize=(10,10))\n",
    "# # plt.matshow(df.corr(),vmin=-1,vmax=1,cmap='seismic',fignum=0)\n",
    "# plt.matshow(df_preprocessed.corr(),vmin=-1,vmax=1,cmap=plt.cm.RdBu,fignum=0)\n",
    "\n",
    "# plt.colorbar(label='corr. coeff.')\n",
    "# plt.xticks(np.arange(df_preprocessed.corr().shape[0]),list(df_preprocessed.corr().columns),rotation=90, fontsize = 13)\n",
    "# plt.yticks(np.arange(df_preprocessed.corr().shape[0]),list(df_preprocessed.corr().columns),fontsize = 13)\n",
    "# plt.tight_layout()\n",
    "# plt.title('Correlation Matrix', y=-0.2, fontsize=20)\n",
    "# plt.savefig('/home/jovyan/DATA1030/DATA1030-Project/figures/corr_coeff.png',dpi=300, bbox_inches = 'tight')\n",
    "# plt.show()"
   ]
  },
  {
   "cell_type": "code",
   "execution_count": null,
   "metadata": {},
   "outputs": [],
   "source": [
    "print(y.describe())\n",
    "ftr_names = X.columns\n",
    "X_np = X.values\n",
    "y_np = y.values\n",
    "# print(X_np.shape)\n",
    "ftr_names"
   ]
  },
  {
   "cell_type": "markdown",
   "metadata": {},
   "source": [
    "**Model 1: Lasso**"
   ]
  },
  {
   "cell_type": "code",
   "execution_count": null,
   "metadata": {},
   "outputs": [],
   "source": [
    "def ML_pipeline_kfold_Lasso(X,y,random_state,n_folds):\n",
    "    # split the data\n",
    "    X_other, X_test, y_other, y_test = train_test_split(X, y, test_size=0.2, \n",
    "                                                        random_state = random_state)\n",
    "    \n",
    "    best_alphas = []\n",
    "    test_scores = []\n",
    "    # k folds - each fold will give us a CV and a test score\n",
    "    kf = KFold(n_splits=n_folds,shuffle=True,random_state=random_state)\n",
    "    # loop through 5 selected folders\n",
    "    for train_index, CV_index in kf.split(X_other,y_other):\n",
    "        X_train, X_CV = X_other[train_index], X_other[CV_index]\n",
    "        y_train, y_CV = y_other[train_index], y_other[CV_index]\n",
    "        \n",
    "        # tune lasso hyper-parameter, alpha\n",
    "#         alpha = np.logspace(-5,-1,num=8)\n",
    "        alpha = [0.00005, 0.0001, 0.001, 0.005, 0.01, 0.05, 0.1]\n",
    "        mse = []\n",
    "        regs = []\n",
    "        for a in alpha:\n",
    "            reg = Lasso(alpha = a,max_iter = 1e4)\n",
    "            reg.fit(X_train,y_train)\n",
    "            mse.append(mean_squared_error(y_CV,reg.predict(X_CV)))\n",
    "            regs.append(reg)\n",
    "        # find the best alpha\n",
    "        best_alphas.append(alpha[np.argmin(mse)])\n",
    "        # grab the best model\n",
    "        reg = regs[np.argmin(mse)]\n",
    "        test_scores.append(reg.score(X_test, y_test))\n",
    "    best_a = best_alphas[np.argmax(test_scores)]\n",
    "    return best_a, min(mse), max(test_scores), reg\n",
    "\n",
    "test_scores_lasso = []\n",
    "regs_lasso = []\n",
    "mses_lasso = []\n",
    "for i in range(10):\n",
    "    best_a, best_mse, test_score, reg = ML_pipeline_kfold_Lasso(X_np,y_np,42*i,5)\n",
    "    test_scores_lasso.append(test_score)\n",
    "    regs_lasso.append(reg)\n",
    "    mses_lasso.append(best_mse)\n",
    "    print('Best alpha is {}. MSE is {}. Best score is {}'.format(best_a, best_mse, \n",
    "                                                                 max(test_scores_lasso)))\n",
    "print('MSE:',np.around(np.mean(mses_lasso),2),'+/-',\n",
    "      np.around(np.std(mses_lasso),2))\n",
    "print('Lasso test scores:',np.around(np.mean(test_scores_lasso),2),'+/-',\n",
    "      np.around(np.std(test_scores_lasso),2))"
   ]
  },
  {
   "cell_type": "markdown",
   "metadata": {},
   "source": [
    "**Model 2: random forest**"
   ]
  },
  {
   "cell_type": "code",
   "execution_count": null,
   "metadata": {},
   "outputs": [],
   "source": [
    "def ML_pipeline_kfold_rf(X,y,random_state,n_folds):\n",
    "    # split the data\n",
    "    X_other, X_test, y_other, y_test = train_test_split(X, y, test_size=0.2, \n",
    "                                                        random_state = random_state)\n",
    "    test_scores = []\n",
    "#     best_pairs = []\n",
    "    # k folds - each fold will give us a CV and a test score\n",
    "    kf = KFold(n_splits=n_folds,shuffle=True,random_state=random_state)\n",
    "    # loop through 5 selected folders\n",
    "    for train_index, CV_index in kf.split(X_other,y_other):\n",
    "        X_train, X_CV = X_other[train_index], X_other[CV_index]\n",
    "        y_train, y_CV = y_other[train_index], y_other[CV_index]\n",
    "        \n",
    "        # tune random forest hyper-parameter, depth and min sample split\n",
    "        depths = [i for i in range(1,15)]\n",
    "        sss = [i for i in range(5,15)]\n",
    "#         train_score = defaultdict(lambda: 0)\n",
    "        mse = defaultdict(lambda: 0)\n",
    "        regs = defaultdict(lambda: RandomForestRegressor(n_estimators=10, max_depth=2, min_samples_split=2, random_state=random_state))\n",
    "        for i,depth in enumerate(depths):\n",
    "            for j,ss in enumerate(sss):\n",
    "                reg = RandomForestRegressor(n_estimators=10, max_depth=depth, min_samples_split=ss, random_state=random_state)\n",
    "                reg.fit(X_train, y_train)\n",
    "#                 train_score[(i,j)] = mean_squared_error(y_train, reg.predict(X_train))\n",
    "                mse[(i,j)] = mean_squared_error(y_CV, reg.predict(X_CV))\n",
    "                regs[(i,j)] = reg\n",
    "        # find the best alpha in this fold\n",
    "        best_pair = min(mse, key=mse.get)\n",
    "#         best_pairs.append(best_pair)\n",
    "        best_depths = depths[best_pair[0]]\n",
    "        best_sss = sss[best_pair[1]]\n",
    "        # grab the best model\n",
    "        reg = regs[best_pair]\n",
    "#         CV_scores.append(np.min(CV_score))\n",
    "        # calculate test score using thee best model\n",
    "        test_scores.append(reg.score(X_test, y_test))\n",
    "    return best_depths, best_sss, max(test_scores), min(mse.values()), reg\n",
    "\n",
    "regs_rf = []\n",
    "test_scores_rf = []\n",
    "mses_rf = []\n",
    "for i in range(10):\n",
    "    best_depths, best_sss, test_score, mse, reg = ML_pipeline_kfold_rf(X_np,y_np,42*i,5)\n",
    "#     CV_scores.append(CV_score)\n",
    "    test_scores_rf.append(test_score)\n",
    "    regs_rf.append(reg)\n",
    "    mses_rf.append(mse)\n",
    "    print('Best depth is {}. Best sample split is {}. MSE is {}. Best score is {}'.format(\n",
    "        best_depths, best_sss, mse, max(test_scores_rf)))\n",
    "print('MSE:',np.around(np.mean(mses_rf),2),'+/-',\n",
    "      np.around(np.std(mses_rf),2))\n",
    "print('Random Forest test MSE:',np.around(np.mean(test_scores_rf),2),'+/-',np.around(np.std(test_scores_rf),2))"
   ]
  },
  {
   "cell_type": "code",
   "execution_count": null,
   "metadata": {},
   "outputs": [],
   "source": [
    "globalp = regs_rf[np.argmax(test_scores_rf)]\n",
    "print(globalp)\n",
    "globalp.feature_importances_"
   ]
  },
  {
   "cell_type": "code",
   "execution_count": null,
   "metadata": {},
   "outputs": [],
   "source": [
    "d = {'ftr_imp': globalp.feature_importances_}\n",
    "pd.DataFrame(d, index=ftr_names).plot.bar(legend=None, figsize=(20, 15))\n",
    "plt.ylabel('feature importance')\n",
    "plt.title('Feature importance in the Random Forest Model', fontsize=20)\n",
    "# plt.title('Feature importance in the Random Forest Model', y=-0.2, fontsize=20)\n",
    "plt.savefig('/home/jovyan/DATA1030/DATA1030-Project/figures/feature_impo.png',dpi=300, bbox_inches = 'tight')\n",
    "plt.show()"
   ]
  },
  {
   "cell_type": "code",
   "execution_count": null,
   "metadata": {},
   "outputs": [],
   "source": [
    "import xgboost\n",
    "from sklearn.model_selection import ParameterGrid\n",
    "from sklearn.metrics import mean_squared_error\n",
    "from sklearn.metrics import r2_score\n",
    "import warnings\n",
    "warnings.filterwarnings(\"ignore\")"
   ]
  },
  {
   "cell_type": "code",
   "execution_count": null,
   "metadata": {},
   "outputs": [],
   "source": [
    "def ML_pipeline_xgb(X,y,random_state,n_folds):\n",
    "    \n",
    "    X_other, X_test, y_other, y_test = train_test_split(X, y, test_size=0.2, random_state = random_state)\n",
    "#    X_train, X_CV, y_train, y_CV = train_test_split(X_other, y_other, test_size=0.25, random_state=random_state)\n",
    "    CV_scores = []\n",
    "    test_scores = []\n",
    "    \n",
    "    kf = KFold(n_splits=n_folds,shuffle=True,random_state=random_state)\n",
    "\n",
    "    for train_index, CV_index in kf.split(X_other,y_other):\n",
    "        X_train, X_CV = X_other.iloc[train_index], X_other.iloc[CV_index]\n",
    "        y_train, y_CV = y_other.iloc[train_index], y_other.iloc[CV_index]\n",
    "    \n",
    "        data = []\n",
    "        r2 = []\n",
    "        max_depth = [1,3,5,7,9]\n",
    "        sub_sample = [0.5, 0.6, 0.8, 1.0]\n",
    "        gamma = [0, 1, 5, 7]\n",
    "\n",
    "        for i in max_depth:\n",
    "            for j in sub_sample:\n",
    "                for g in gamma:\n",
    "                    \n",
    "                    XGB = xgboost.XGBRegressor(objective ='reg:squarederror', learning_rate = 0.15, max_depth = i, \n",
    "                                               n_estimators = 100, subsample=j, gamma = g)\n",
    "                    XGB.fit(X_train,y_train,early_stopping_rounds=50,eval_set=[(X_CV, y_CV)], verbose=False)\n",
    "                    y_CV_pred = XGB.predict(X_CV)\n",
    "\n",
    "                    data.append([i, j, g, XGB, r2_score(y_CV, y_CV_pred)])\n",
    "\n",
    "        df3 = pd.DataFrame(data, columns = ['max_depth', 'sub_sample', 'gamma', 'model', 'cv_scores_xgb'])\n",
    "        cv_best = max(df3['cv_scores_xgb'])\n",
    "        index = np.argmax(np.array(df3['cv_scores_xgb']))\n",
    "        pair_best = (df3['max_depth'][index],df3['sub_sample'][index],df3['gamma'][index])\n",
    "        xgb = df3['model'][index]\n",
    "        y_test_pred = xgb.predict(X_test)\n",
    "        CV_scores.append(cv_best)\n",
    "        r2.append(r2_score(y_test, y_test_pred))\n",
    "\n",
    "    return CV_scores, r2, pair_best\n",
    "\n",
    "\n",
    "test_scores_xgb = []\n",
    "CV_scores_xgb = []\n",
    "for i in range(1,4):\n",
    "    CV_score, r2, pair_best = ML_pipeline_xgb(X,y,42*i,3)\n",
    "    test_scores_xgb += r2\n",
    "    CV_scores_xgb.append(CV_score)\n",
    "    print(\"The best max_depth and sub sample and gamma on the {}th round: {}\".format(i, pair_best))\n",
    "    print(\"The MSE is\", CV_score, \"and the R2 score is\", r2)\n",
    "    \n",
    "print('MSE:',np.around(np.mean(CV_scores_xgb),2), '+/-', np.around(np.std(CV_scores_xgb),2))\n",
    "print('test accuracy:',np.around(np.mean(test_scores_xgb),2), '+/-', np.around(np.std(test_scores_xgb),2))"
   ]
  },
  {
   "cell_type": "code",
   "execution_count": null,
   "metadata": {},
   "outputs": [],
   "source": [
    "# # Train an SVR\n",
    "# def ML_pipeline_kfold_svr(X,y,random_state,n_folds):\n",
    "#     X_other, X_test, y_other, y_test = train_test_split(X, y, test_size=0.2, \n",
    "#                                                         random_state = random_state)\n",
    "#     CV_scores = []\n",
    "#     test_scores = []\n",
    "#     kf = KFold(n_splits=n_folds, shuffle=True,random_state=random_state)\n",
    "#     for train_index, CV_index in kf.split(X_other,y_other):\n",
    "#         X_train, X_CV = X_other[train_index], X_other[CV_index]\n",
    "#         y_train, y_CV = y_other[train_index], y_other[CV_index]\n",
    "\n",
    "#         # tune svr hyper-parameter, gamma and c \n",
    "#         gammas= np.logspace(-9, 3, 13)\n",
    "#         Cs = np.logspace(1, 10, 10)\n",
    "# #         train_score = defaultdict(lambda: 0)\n",
    "#         CV_score = defaultdict(lambda: 0)\n",
    "#         regs = defaultdict(lambda: SVR(gamma = 1, C = 1, probability=True, random_state=random_state))\n",
    "#         for i,gamma_value in enumerate(gammas):\n",
    "#             for j,c in enumerate(Cs):\n",
    "#                 reg = SVR(gamma = gamma_value, C = c)\n",
    "#                 reg.fit(X_train, y_train)\n",
    "# #                 train_score[(i,j)] = accuracy_score(y_train, reg.predict(X_train))\n",
    "#                 CV_score[(i,j)] = mean_squared_error(y_CV, reg.predict(X_CV))\n",
    "#                 regs[(i,j)] = reg\n",
    "#         # find the best alpha in this fold\n",
    "#         best_CV_pair = min(CV_score, key=CV_score.get)\n",
    "#         best_gamma = gammas[best_CV_pair[0]]\n",
    "#         best_c = Cs[best_CV_pair[1]]\n",
    "#         # grab the best model\n",
    "#         reg = regs[best_CV_pair]\n",
    "#         CV_scores.append(np.min(CV_score))\n",
    "#         # calculate test score using thee best model\n",
    "#         test_scores.append(reg.score(X_test, y_test))\n",
    "    \n",
    "# #     print(\"best gamma is \", best_gamma)\n",
    "# #     print(\"best c is \", best_c)\n",
    "\n",
    "#     return best_gamma, best_c, min(CV_scores.values()), test_scores\n",
    "\n",
    "# test_scores_svr = []\n",
    "# for i in range(10):\n",
    "#     best_gamma, best_c, CV_scores, test_scores = ML_pipeline_kfold_svr(X,y,42*i,2)\n",
    "#     test_scores_svr.append(test_scores)\n",
    "#     print('Best gamma is {}. Best c is {}. MSE is {}. Best score is {}'.format(\n",
    "#         best_gamma, best_c, CV_scores, max(test_scores_svr)))\n",
    "# print(\"SVR best accuracy is \",np.around(np.mean(test_scores_svr),2), '+/-', np.around(np.std(test_scores_svr),2))"
   ]
  },
  {
   "cell_type": "code",
   "execution_count": null,
   "metadata": {},
   "outputs": [],
   "source": []
  }
 ],
 "metadata": {
  "kernelspec": {
   "display_name": "Python 3",
   "language": "python",
   "name": "python3"
  },
  "language_info": {
   "codemirror_mode": {
    "name": "ipython",
    "version": 3
   },
   "file_extension": ".py",
   "mimetype": "text/x-python",
   "name": "python",
   "nbconvert_exporter": "python",
   "pygments_lexer": "ipython3",
   "version": "3.7.3"
  }
 },
 "nbformat": 4,
 "nbformat_minor": 4
}
