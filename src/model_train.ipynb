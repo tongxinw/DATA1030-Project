{
 "cells": [
  {
   "cell_type": "code",
   "execution_count": 1,
   "metadata": {},
   "outputs": [],
   "source": [
    "import pandas as pd\n",
    "import numpy as np\n",
    "import seaborn as sns\n",
    "import matplotlib\n",
    "from matplotlib import pylab as plt\n",
    "from sklearn.preprocessing import OneHotEncoder\n",
    "from sklearn.preprocessing import StandardScaler\n",
    "from sklearn.impute import SimpleImputer\n",
    "from sklearn.model_selection import KFold\n",
    "from sklearn.model_selection import train_test_split\n",
    "from sklearn.linear_model import Lasso\n",
    "from sklearn.ensemble import RandomForestRegressor\n",
    "from sklearn.metrics import mean_squared_error\n",
    "from collections import defaultdict\n",
    "from sklearn.svm import SVR\n",
    "from sklearn.compose import ColumnTransformer\n",
    "from sklearn.pipeline import Pipeline\n",
    "from sklearn.pipeline import make_pipeline\n",
    "from sklearn.model_selection import GridSearchCV"
   ]
  },
  {
   "cell_type": "code",
   "execution_count": 2,
   "metadata": {},
   "outputs": [],
   "source": [
    "import os\n",
    "os.path.abspath('USvideos.csv')\n",
    "path = r\"/home/jovyan/DATA1030/DATA1030-Project/data/USvideos.csv\""
   ]
  },
  {
   "cell_type": "markdown",
   "metadata": {},
   "source": [
    "**Load Data set**"
   ]
  },
  {
   "cell_type": "code",
   "execution_count": 3,
   "metadata": {},
   "outputs": [],
   "source": [
    "df = pd.read_csv(path)"
   ]
  },
  {
   "cell_type": "markdown",
   "metadata": {},
   "source": [
    "**Adding Columns to Data**"
   ]
  },
  {
   "cell_type": "code",
   "execution_count": 4,
   "metadata": {},
   "outputs": [
    {
     "name": "stdout",
     "output_type": "stream",
     "text": [
      "Data Frame shape:  (40949, 16)\n",
      "video_id                  object\n",
      "trending_date             object\n",
      "title                     object\n",
      "channel_title             object\n",
      "category_id                int64\n",
      "publish_time              object\n",
      "tags                      object\n",
      "views                      int64\n",
      "likes                      int64\n",
      "dislikes                   int64\n",
      "comment_count              int64\n",
      "thumbnail_link            object\n",
      "comments_disabled           bool\n",
      "ratings_disabled            bool\n",
      "video_error_or_removed      bool\n",
      "description               object\n",
      "dtype: object\n"
     ]
    }
   ],
   "source": [
    "print(\"Data Frame shape: \", df.shape)\n",
    "# print(df.nunique())\n",
    "print(df.dtypes)\n",
    "# change catagory_id to catagory name\n",
    "df['category_name'] = np.nan\n",
    "\n",
    "df.loc[(df[\"category_id\"] == 1),\"category_name\"] = 'Film and Animation'\n",
    "df.loc[(df[\"category_id\"] == 2),\"category_name\"] = 'Cars and Vehicles'\n",
    "df.loc[(df[\"category_id\"] == 10),\"category_name\"] = 'Music'\n",
    "df.loc[(df[\"category_id\"] == 15),\"category_name\"] = 'Pets and Animals'\n",
    "df.loc[(df[\"category_id\"] == 17),\"category_name\"] = 'Sport'\n",
    "df.loc[(df[\"category_id\"] == 19),\"category_name\"] = 'Travel and Events'\n",
    "df.loc[(df[\"category_id\"] == 20),\"category_name\"] = 'Gaming'\n",
    "df.loc[(df[\"category_id\"] == 22),\"category_name\"] = 'People and Blogs'\n",
    "df.loc[(df[\"category_id\"] == 23),\"category_name\"] = 'Comedy'\n",
    "df.loc[(df[\"category_id\"] == 24),\"category_name\"] = 'Entertainment'\n",
    "df.loc[(df[\"category_id\"] == 25),\"category_name\"] = 'News and Politics'\n",
    "df.loc[(df[\"category_id\"] == 26),\"category_name\"] = 'How to and Style'\n",
    "df.loc[(df[\"category_id\"] == 27),\"category_name\"] = 'Education'\n",
    "df.loc[(df[\"category_id\"] == 28),\"category_name\"] = 'Science and Technology'\n",
    "df.loc[(df[\"category_id\"] == 29),\"category_name\"] = 'Non Profits and Activism'\n",
    "df.loc[(df[\"category_id\"] == 43),\"category_name\"] = 'Shows'"
   ]
  },
  {
   "cell_type": "markdown",
   "metadata": {},
   "source": [
    "**Check missing values**"
   ]
  },
  {
   "cell_type": "code",
   "execution_count": null,
   "metadata": {},
   "outputs": [],
   "source": [
    "print(df.isnull().sum(axis=0)/df.shape[0])\n",
    "print(sum(df.isnull().sum(axis=1)!=0)/df.shape[0])"
   ]
  },
  {
   "cell_type": "code",
   "execution_count": 5,
   "metadata": {},
   "outputs": [
    {
     "name": "stderr",
     "output_type": "stream",
     "text": [
      "/opt/conda/lib/python3.7/site-packages/pandas/core/series.py:853: RuntimeWarning: divide by zero encountered in log10\n",
      "  result = getattr(ufunc, method)(*inputs, **kwargs)\n"
     ]
    }
   ],
   "source": [
    "# add more data based on current data set\n",
    "df['like_rate'] =  df['likes'] / df['views'] * 100\n",
    "df['dislike_rate'] =  df['dislikes']/df['views'] * 100\n",
    "df['comment_log'] =  np.log10(df['comment_count'])\n",
    "df['view_log'] = np.log10(df['views'])\n",
    "df['interaction_rate'] = (df['likes'] + df['dislikes'] + 2 * df['comment_count'])/df['views'] * 100"
   ]
  },
  {
   "cell_type": "code",
   "execution_count": 6,
   "metadata": {},
   "outputs": [],
   "source": [
    "df[['video_id','title', 'category_name','interaction_rate']].groupby('video_id').agg('max').sort_values(ascending = False, by = 'interaction_rate')\n",
    "group_by_object = df.groupby('video_id').count().sort_values('trending_date', ascending = 'True').reset_index()\n",
    "intermediate = group_by_object[['video_id','trending_date']]\n",
    "intermediate.columns = ['video_id', 'total_trending_days']\n",
    "df = pd.merge(df, intermediate, on='video_id', how='left')\n",
    "df = df.groupby('video_id').agg('max', column= 'views')\n",
    "# df.columns\n",
    "# print(df.shape)\n",
    "# print(df.dtypes)"
   ]
  },
  {
   "cell_type": "code",
   "execution_count": null,
   "metadata": {},
   "outputs": [],
   "source": [
    "# print(df.isnull().sum(axis=0)/df.shape[0])\n",
    "# print(sum(df.isnull().sum(axis=1)!=0)/df.shape[0])"
   ]
  },
  {
   "cell_type": "code",
   "execution_count": null,
   "metadata": {},
   "outputs": [],
   "source": [
    "# df[['title','views','category_name']].sort_values(by='views', ascending=False)[:10]"
   ]
  },
  {
   "cell_type": "code",
   "execution_count": null,
   "metadata": {},
   "outputs": [],
   "source": [
    "# df[['title','views','category_name', 'interaction_rate']].sort_values(by='interaction_rate', ascending=False)[:10]"
   ]
  },
  {
   "cell_type": "code",
   "execution_count": null,
   "metadata": {},
   "outputs": [],
   "source": [
    "# histogram\n",
    "plt.figure(figsize=(10,8))\n",
    "\n",
    "# draw on the figure, define the properties of the line or marker\n",
    "# plt.hist(y,bins=30,log=True)\n",
    "df['total_trending_days'].hist(bins=30,log=True,grid=False)\n",
    "\n",
    "# modify the properties of the figure\n",
    "# axis labels, title, x and y limits, etc.\n",
    "plt.xlabel('total_trending_days', fontsize = 15)\n",
    "plt.ylabel('# of videos', fontsize = 15)\n",
    "plt.title('histogram of the target variable', fontsize = 15)\n",
    "plt.tight_layout()\n",
    "\n",
    "# show the figure in the notebook or save it as a file\n",
    "plt.savefig('/home/jovyan/DATA1030/DATA1030-Project/figures/y_hist.png',dpi=300)\n",
    "plt.show()\n",
    "# os.path.abspath('y_hist.png')"
   ]
  },
  {
   "cell_type": "code",
   "execution_count": null,
   "metadata": {},
   "outputs": [],
   "source": [
    "# which categories are easier to be trending videos\n",
    "\n",
    "print(df['category_name'].value_counts()/df['category_name'].shape)\n",
    "plt.figure(figsize=(12,8))\n",
    "p = sns.countplot(data=df, x = 'category_name')\n",
    "p.set_xticklabels(p.get_xticklabels(), rotation = 90, fontsize = 18)\n",
    "plt.ylabel('Video counts', fontsize=18)\n",
    "plt.title(\"Video counts by Category Names\", fontsize=20)\n",
    "plt.savefig('/home/jovyan/DATA1030/DATA1030-Project/figures/category_count.png',dpi=300, bbox_inches = 'tight')\n",
    "plt.show()"
   ]
  },
  {
   "cell_type": "code",
   "execution_count": null,
   "metadata": {},
   "outputs": [],
   "source": [
    "plt.figure(figsize = (14,9))\n",
    "plt.subplot(211)\n",
    "f2 = sns.boxplot(x='category_name', y='views', data=df)\n",
    "f2.set_xticklabels(f2.get_xticklabels(),rotation=45)\n",
    "f2.set_title(\"Views Distribuition by Category Names\", fontsize=20)\n",
    "f2.set_xlabel(\"\", fontsize=15)\n",
    "f2.set_ylabel(\"Views\", fontsize=15)\n",
    "\n",
    "plt.subplot(212)\n",
    "f = sns.boxplot(x='category_name', y='view_log', data=df)\n",
    "f.set_xticklabels(f.get_xticklabels(),rotation=90, fontsize = 16)\n",
    "f.set_title(\"Log(views) Distribuition by Category Names\", fontsize=20)\n",
    "f.set_xlabel(\"\", fontsize=15)\n",
    "f.set_ylabel(\"log(views)\", fontsize=15)\n",
    "\n",
    "plt.subplots_adjust(hspace = 0.9, top = 0.9)\n",
    "plt.savefig('/home/jovyan/DATA1030/DATA1030-Project/figures/view_category.png',dpi=300, bbox_inches = 'tight')\n",
    "plt.show()"
   ]
  },
  {
   "cell_type": "code",
   "execution_count": null,
   "metadata": {},
   "outputs": [],
   "source": [
    "# correlation matrix\n",
    "plt.figure(figsize=(10,10))\n",
    "# plt.matshow(df.corr(),vmin=-1,vmax=1,cmap='seismic',fignum=0)\n",
    "plt.matshow(df.corr(),vmin=-1,vmax=1,cmap=plt.cm.RdBu,fignum=0)\n",
    "\n",
    "plt.colorbar(label='corr. coeff.')\n",
    "plt.xticks(np.arange(df.corr().shape[0]),list(df.corr().columns),rotation=90, fontsize = 13)\n",
    "plt.yticks(np.arange(df.corr().shape[0]),list(df.corr().columns),fontsize = 13)\n",
    "plt.tight_layout()\n",
    "plt.title('Correlation Matrix', y=-0.2, fontsize=20)\n",
    "plt.savefig('/home/jovyan/DATA1030/DATA1030-Project/figures/corr_coeff.png',dpi=300, bbox_inches = 'tight')\n",
    "plt.show()"
   ]
  },
  {
   "cell_type": "code",
   "execution_count": 7,
   "metadata": {},
   "outputs": [
    {
     "name": "stderr",
     "output_type": "stream",
     "text": [
      "/opt/conda/lib/python3.7/site-packages/sklearn/preprocessing/_encoders.py:415: FutureWarning: The handling of integer data will change in version 0.22. Currently, the categories are determined based on the range [0, max(values)], while in the future they will be determined based on the unique values.\n",
      "If you want the future behaviour and silence this warning, you can specify \"categories='auto'\".\n",
      "In case you used a LabelEncoder before this OneHotEncoder to convert the categories to integers, then you can now use the OneHotEncoder directly.\n",
      "  warnings.warn(msg, FutureWarning)\n"
     ]
    }
   ],
   "source": [
    "# preprocess feature types one by one\n",
    "# start machine learning \n",
    "num_ftrs = ['views', 'likes', 'dislikes', 'view_log','like_rate', 'dislike_rate', 'interaction_rate']\n",
    "cat_ftrs = ['category_id', 'comments_disabled', 'ratings_disabled', 'video_error_or_removed']\n",
    "\n",
    "# one-hot encoder\n",
    "ohe = OneHotEncoder(sparse=False)\n",
    "si = SimpleImputer(strategy='constant',fill_value='missing')\n",
    "cat_values = ohe.fit_transform(si.fit_transform(df[cat_ftrs]))\n",
    "cat_ftr_names = ohe.get_feature_names()\n",
    "df_cat = pd.DataFrame(data=cat_values,columns = cat_ftr_names)\n",
    "# print(df_cat)\n",
    "\n",
    "# standard scaler\n",
    "ss = StandardScaler()\n",
    "num_values = ss.fit_transform(df[num_ftrs])\n",
    "df_num = pd.DataFrame(data=num_values,columns = num_ftrs)\n",
    "\n",
    "df_preprocessed = pd.concat([df_cat,df_num],axis=1)\n",
    "X = df_preprocessed\n",
    "y = df['total_trending_days']\n",
    "# df_preprocessed['total_trending_days'] = y\n",
    "export_csv = df_preprocessed.to_csv (r'/home/jovyan/DATA1030/DATA1030-Project/data/preprocessed.csv', index = None, header=True) \n",
    "# print(df_preprocessed.shape)\n",
    "# print(df_preprocessed.dtypes)"
   ]
  },
  {
   "cell_type": "code",
   "execution_count": null,
   "metadata": {},
   "outputs": [],
   "source": [
    "# # correlation matrix\n",
    "# plt.figure(figsize=(10,10))\n",
    "# # plt.matshow(df.corr(),vmin=-1,vmax=1,cmap='seismic',fignum=0)\n",
    "# plt.matshow(df_preprocessed.corr(),vmin=-1,vmax=1,cmap=plt.cm.RdBu,fignum=0)\n",
    "\n",
    "# plt.colorbar(label='corr. coeff.')\n",
    "# plt.xticks(np.arange(df_preprocessed.corr().shape[0]),list(df_preprocessed.corr().columns),rotation=90, fontsize = 13)\n",
    "# plt.yticks(np.arange(df_preprocessed.corr().shape[0]),list(df_preprocessed.corr().columns),fontsize = 13)\n",
    "# plt.tight_layout()\n",
    "# plt.title('Correlation Matrix', y=-0.2, fontsize=20)\n",
    "# plt.savefig('/home/jovyan/DATA1030/DATA1030-Project/figures/corr_coeff.png',dpi=300, bbox_inches = 'tight')\n",
    "# plt.show()"
   ]
  },
  {
   "cell_type": "code",
   "execution_count": 8,
   "metadata": {},
   "outputs": [
    {
     "name": "stdout",
     "output_type": "stream",
     "text": [
      "count    6351.000000\n",
      "mean        6.447646\n",
      "std         4.642806\n",
      "min         1.000000\n",
      "25%         3.000000\n",
      "50%         6.000000\n",
      "75%         8.000000\n",
      "max        30.000000\n",
      "Name: total_trending_days, dtype: float64\n"
     ]
    },
    {
     "data": {
      "text/plain": [
       "Index(['x0_1.0', 'x0_2.0', 'x0_10.0', 'x0_15.0', 'x0_17.0', 'x0_19.0',\n",
       "       'x0_20.0', 'x0_22.0', 'x0_23.0', 'x0_24.0', 'x0_25.0', 'x0_26.0',\n",
       "       'x0_27.0', 'x0_28.0', 'x0_29.0', 'x0_43.0', 'x1_0.0', 'x1_1.0',\n",
       "       'x2_0.0', 'x2_1.0', 'x3_0.0', 'x3_1.0', 'views', 'likes', 'dislikes',\n",
       "       'view_log', 'like_rate', 'dislike_rate', 'interaction_rate'],\n",
       "      dtype='object')"
      ]
     },
     "execution_count": 8,
     "metadata": {},
     "output_type": "execute_result"
    }
   ],
   "source": [
    "print(y.describe())\n",
    "ftr_names = X.columns\n",
    "X_np = X.values\n",
    "y_np = y.values\n",
    "# print(X_np.shape)\n",
    "ftr_names"
   ]
  },
  {
   "cell_type": "markdown",
   "metadata": {},
   "source": [
    "**Model 1: Lasso**"
   ]
  },
  {
   "cell_type": "code",
   "execution_count": 10,
   "metadata": {},
   "outputs": [
    {
     "name": "stdout",
     "output_type": "stream",
     "text": [
      "Best alpha is 0.05. MSE is 16.728597777443245. Best score is 0.20338137011093782\n",
      "Best alpha is 0.001. MSE is 16.421400814136327. Best score is 0.22996603446548758\n",
      "Best alpha is 0.005. MSE is 17.278961733580932. Best score is 0.22996603446548758\n",
      "Best alpha is 0.001. MSE is 15.519634635381962. Best score is 0.2527074449935275\n",
      "Best alpha is 0.005. MSE is 15.840687369894415. Best score is 0.2527074449935275\n",
      "Best alpha is 0.001. MSE is 16.931713775697638. Best score is 0.2527074449935275\n",
      "Best alpha is 0.05. MSE is 15.724527974113204. Best score is 0.2527074449935275\n",
      "Best alpha is 0.01. MSE is 16.80717315474694. Best score is 0.2527074449935275\n",
      "Best alpha is 0.05. MSE is 16.518245569264298. Best score is 0.2527074449935275\n",
      "Best alpha is 5e-05. MSE is 16.662690102472997. Best score is 0.2527074449935275\n",
      "MSE: 16.44 +/- 0.54\n",
      "Lasso test scores: 0.22 +/- 0.02\n"
     ]
    }
   ],
   "source": [
    "def ML_pipeline_kfold_Lasso(X,y,random_state,n_folds):\n",
    "    # split the data\n",
    "    X_other, X_test, y_other, y_test = train_test_split(X, y, test_size=0.2, \n",
    "                                                        random_state = random_state)\n",
    "    \n",
    "    best_alphas = []\n",
    "    test_scores = []\n",
    "    # k folds - each fold will give us a CV and a test score\n",
    "    kf = KFold(n_splits=n_folds,shuffle=True,random_state=random_state)\n",
    "    # loop through 5 selected folders\n",
    "    for train_index, CV_index in kf.split(X_other,y_other):\n",
    "        X_train, X_CV = X_other[train_index], X_other[CV_index]\n",
    "        y_train, y_CV = y_other[train_index], y_other[CV_index]\n",
    "        \n",
    "        # tune lasso hyper-parameter, alpha\n",
    "#         alpha = np.logspace(-5,-1,num=8)\n",
    "        alpha = [0.00005, 0.0001, 0.001, 0.005, 0.01, 0.05, 0.1]\n",
    "        mse = []\n",
    "        regs = []\n",
    "        for a in alpha:\n",
    "            reg = Lasso(alpha = a,max_iter = 1e4)\n",
    "            reg.fit(X_train,y_train)\n",
    "            mse.append(mean_squared_error(y_CV,reg.predict(X_CV)))\n",
    "            regs.append(reg)\n",
    "        # find the best alpha\n",
    "        best_alphas.append(alpha[np.argmin(mse)])\n",
    "        # grab the best model\n",
    "        reg = regs[np.argmin(mse)]\n",
    "        test_scores.append(reg.score(X_test, y_test))\n",
    "    best_a = best_alphas[np.argmax(test_scores)]\n",
    "    return best_a, min(mse), max(test_scores), reg\n",
    "\n",
    "test_scores_lasso = []\n",
    "regs_lasso = []\n",
    "mses_lasso = []\n",
    "for i in range(10):\n",
    "    best_a, best_mse, test_score, reg = ML_pipeline_kfold_Lasso(X_np,y_np,42*i,5)\n",
    "    test_scores_lasso.append(test_score)\n",
    "    regs_lasso.append(reg)\n",
    "    mses_lasso.append(best_mse)\n",
    "    print('Best alpha is {}. MSE is {}. Best score is {}'.format(best_a, best_mse, \n",
    "                                                                 max(test_scores_lasso)))\n",
    "print('MSE:',np.around(np.mean(mses_lasso),2),'+/-',\n",
    "      np.around(np.std(mses_lasso),2))\n",
    "print('Lasso test scores:',np.around(np.mean(test_scores_lasso),2),'+/-',\n",
    "      np.around(np.std(test_scores_lasso),2))"
   ]
  },
  {
   "cell_type": "markdown",
   "metadata": {},
   "source": [
    "**Model 2: random forest**"
   ]
  },
  {
   "cell_type": "code",
   "execution_count": 11,
   "metadata": {},
   "outputs": [
    {
     "name": "stdout",
     "output_type": "stream",
     "text": [
      "Best depth is 6. Best sample split is 8. MSE is 16.757838444483745. Best score is 0.19334664186726258\n",
      "Best depth is 7. Best sample split is 10. MSE is 16.376371477301852. Best score is 0.23973479414972976\n",
      "Best depth is 5. Best sample split is 5. MSE is 17.168730750907716. Best score is 0.23973479414972976\n",
      "Best depth is 6. Best sample split is 6. MSE is 15.838842460197325. Best score is 0.2651316387677203\n",
      "Best depth is 8. Best sample split is 13. MSE is 15.618592415432492. Best score is 0.2680904677285435\n",
      "Best depth is 9. Best sample split is 11. MSE is 17.029946737596998. Best score is 0.2680904677285435\n",
      "Best depth is 10. Best sample split is 14. MSE is 15.339991097410675. Best score is 0.2680904677285435\n",
      "Best depth is 12. Best sample split is 9. MSE is 16.785678181876328. Best score is 0.2680904677285435\n",
      "Best depth is 7. Best sample split is 14. MSE is 16.43284925238653. Best score is 0.2680904677285435\n",
      "Best depth is 8. Best sample split is 8. MSE is 16.12850633948353. Best score is 0.2680904677285435\n",
      "MSE: 16.35 +/- 0.58\n",
      "Random Forest test MSE: 0.23 +/- 0.02\n"
     ]
    }
   ],
   "source": [
    "def ML_pipeline_kfold_rf(X,y,random_state,n_folds):\n",
    "    # split the data\n",
    "    X_other, X_test, y_other, y_test = train_test_split(X, y, test_size=0.2, \n",
    "                                                        random_state = random_state)\n",
    "    test_scores = []\n",
    "#     best_pairs = []\n",
    "    # k folds - each fold will give us a CV and a test score\n",
    "    kf = KFold(n_splits=n_folds,shuffle=True,random_state=random_state)\n",
    "    # loop through 5 selected folders\n",
    "    for train_index, CV_index in kf.split(X_other,y_other):\n",
    "        X_train, X_CV = X_other[train_index], X_other[CV_index]\n",
    "        y_train, y_CV = y_other[train_index], y_other[CV_index]\n",
    "        \n",
    "        # tune random forest hyper-parameter, depth and min sample split\n",
    "        depths = [i for i in range(1,15)]\n",
    "        sss = [i for i in range(5,15)]\n",
    "#         train_score = defaultdict(lambda: 0)\n",
    "        mse = defaultdict(lambda: 0)\n",
    "        regs = defaultdict(lambda: RandomForestRegressor(n_estimators=10, max_depth=2, min_samples_split=2, random_state=random_state))\n",
    "        for i,depth in enumerate(depths):\n",
    "            for j,ss in enumerate(sss):\n",
    "                reg = RandomForestRegressor(n_estimators=10, max_depth=depth, min_samples_split=ss, random_state=random_state)\n",
    "                reg.fit(X_train, y_train)\n",
    "#                 train_score[(i,j)] = mean_squared_error(y_train, reg.predict(X_train))\n",
    "                mse[(i,j)] = mean_squared_error(y_CV, reg.predict(X_CV))\n",
    "                regs[(i,j)] = reg\n",
    "        # find the best alpha in this fold\n",
    "        best_pair = min(mse, key=mse.get)\n",
    "#         best_pairs.append(best_pair)\n",
    "        best_depths = depths[best_pair[0]]\n",
    "        best_sss = sss[best_pair[1]]\n",
    "        # grab the best model\n",
    "        reg = regs[best_pair]\n",
    "#         CV_scores.append(np.min(CV_score))\n",
    "        # calculate test score using thee best model\n",
    "        test_scores.append(reg.score(X_test, y_test))\n",
    "    return best_depths, best_sss, max(test_scores), min(mse.values()), reg\n",
    "\n",
    "regs_rf = []\n",
    "test_scores_rf = []\n",
    "mses_rf = []\n",
    "for i in range(10):\n",
    "    best_depths, best_sss, test_score, mse, reg = ML_pipeline_kfold_rf(X_np,y_np,42*i,5)\n",
    "#     CV_scores.append(CV_score)\n",
    "    test_scores_rf.append(test_score)\n",
    "    regs_rf.append(reg)\n",
    "    mses_rf.append(mse)\n",
    "    print('Best depth is {}. Best sample split is {}. MSE is {}. Best score is {}'.format(\n",
    "        best_depths, best_sss, mse, max(test_scores_rf)))\n",
    "print('MSE:',np.around(np.mean(mses_rf),2),'+/-',\n",
    "      np.around(np.std(mses_rf),2))\n",
    "print('Random Forest test MSE:',np.around(np.mean(test_scores_rf),2),'+/-',np.around(np.std(test_scores_rf),2))"
   ]
  },
  {
   "cell_type": "code",
   "execution_count": 12,
   "metadata": {},
   "outputs": [
    {
     "name": "stdout",
     "output_type": "stream",
     "text": [
      "RandomForestRegressor(bootstrap=True, criterion='mse', max_depth=8,\n",
      "                      max_features='auto', max_leaf_nodes=None,\n",
      "                      min_impurity_decrease=0.0, min_impurity_split=None,\n",
      "                      min_samples_leaf=1, min_samples_split=13,\n",
      "                      min_weight_fraction_leaf=0.0, n_estimators=10,\n",
      "                      n_jobs=None, oob_score=False, random_state=168, verbose=0,\n",
      "                      warm_start=False)\n"
     ]
    },
    {
     "data": {
      "text/plain": [
       "array([6.13968768e-03, 3.70893576e-04, 5.41366225e-03, 3.86958939e-03,\n",
       "       2.76536705e-03, 1.27586656e-04, 3.88765636e-03, 2.39110075e-03,\n",
       "       2.96655872e-03, 1.85404212e-03, 4.67763737e-03, 8.10183862e-03,\n",
       "       2.36958820e-03, 4.54034594e-03, 0.00000000e+00, 0.00000000e+00,\n",
       "       6.76366998e-04, 4.84852288e-04, 9.86922540e-05, 0.00000000e+00,\n",
       "       0.00000000e+00, 0.00000000e+00, 2.09271210e-01, 2.61595037e-01,\n",
       "       8.40653737e-02, 1.90120525e-01, 6.86109179e-02, 6.05177491e-02,\n",
       "       7.50837203e-02])"
      ]
     },
     "execution_count": 12,
     "metadata": {},
     "output_type": "execute_result"
    }
   ],
   "source": [
    "globalp = regs_rf[np.argmax(test_scores_rf)]\n",
    "print(globalp)\n",
    "globalp.feature_importances_"
   ]
  },
  {
   "cell_type": "code",
   "execution_count": 13,
   "metadata": {},
   "outputs": [
    {
     "data": {
      "image/png": "[encoded data removed]",
      "text/plain": [
       "<Figure size 1440x1080 with 1 Axes>"
      ]
     },
     "metadata": {
      "needs_background": "light"
     },
     "output_type": "display_data"
    }
   ],
   "source": [
    "d = {'ftr_imp': globalp.feature_importances_}\n",
    "pd.DataFrame(d, index=ftr_names).plot.bar(legend=None, figsize=(20, 15))\n",
    "plt.ylabel('feature importance')\n",
    "plt.title('Feature importance in the Random Forest Model', fontsize=20)\n",
    "# plt.title('Feature importance in the Random Forest Model', y=-0.2, fontsize=20)\n",
    "plt.savefig('/home/jovyan/DATA1030/DATA1030-Project/figures/feature_impo.png',dpi=300, bbox_inches = 'tight')\n",
    "plt.show()"
   ]
  },
  {
   "cell_type": "code",
   "execution_count": 14,
   "metadata": {},
   "outputs": [],
   "source": [
    "import xgboost\n",
    "from sklearn.model_selection import ParameterGrid\n",
    "from sklearn.metrics import mean_squared_error\n",
    "from sklearn.metrics import r2_score\n",
    "import warnings\n",
    "warnings.filterwarnings(\"ignore\")"
   ]
  },
  {
   "cell_type": "code",
   "execution_count": null,
   "metadata": {},
   "outputs": [
    {
     "name": "stdout",
     "output_type": "stream",
     "text": [
      "The best max_depth and sub sample and gamma on the 1th round: (5, 0.5, 5)\n",
      "The best max_depth and sub sample and gamma on the 2th round: (5, 0.5, 7)\n",
      "The best max_depth and sub sample and gamma on the 3th round: (5, 0.8, 5)\n",
      "The best max_depth and sub sample and gamma on the 4th round: (7, 0.8, 1)\n"
     ]
    }
   ],
   "source": [
    "def ML_pipeline_xgb(X,y,random_state,n_folds):\n",
    "    \n",
    "    X_other, X_test, y_other, y_test = train_test_split(X, y, test_size=0.2, random_state = random_state)\n",
    "#    X_train, X_CV, y_train, y_CV = train_test_split(X_other, y_other, test_size=0.25, random_state=random_state)\n",
    "    CV_scores = []\n",
    "    test_scores = []\n",
    "    \n",
    "    kf = KFold(n_splits=n_folds,shuffle=True,random_state=random_state)\n",
    "\n",
    "    for train_index, CV_index in kf.split(X_other,y_other):\n",
    "        X_train, X_CV = X_other.iloc[train_index], X_other.iloc[CV_index]\n",
    "        y_train, y_CV = y_other.iloc[train_index], y_other.iloc[CV_index]\n",
    "    \n",
    "        data = []\n",
    "        r2 = []\n",
    "        max_depth = [1,3,5,7,9]\n",
    "        sub_sample = [0.5, 0.6, 0.8, 1.0]\n",
    "        gamma = [0, 1, 5, 7]\n",
    "\n",
    "        for i in max_depth:\n",
    "            for j in sub_sample:\n",
    "                for g in gamma:\n",
    "                    \n",
    "                    XGB = xgboost.XGBRegressor(objective ='reg:squarederror', learning_rate = 0.15, max_depth = i, \n",
    "                                               n_estimators = 100, subsample=j, gamma = g)\n",
    "                    XGB.fit(X_train,y_train,early_stopping_rounds=50,eval_set=[(X_CV, y_CV)], verbose=False)\n",
    "                    y_CV_pred = XGB.predict(X_CV)\n",
    "\n",
    "                    data.append([i, j, g, XGB, r2_score(y_CV, y_CV_pred)])\n",
    "\n",
    "        df3 = pd.DataFrame(data, columns = ['max_depth', 'sub_sample', 'gamma', 'model', 'cv_scores_xgb'])\n",
    "        cv_best = max(df3['cv_scores_xgb'])\n",
    "        index = np.argmax(np.array(df3['cv_scores_xgb']))\n",
    "        pair_best = (df3['max_depth'][index],df3['sub_sample'][index],df3['gamma'][index])\n",
    "        xgb = df3['model'][index]\n",
    "        y_test_pred = xgb.predict(X_test)\n",
    "        CV_scores.append(cv_best)\n",
    "        r2.append(r2_score(y_test, y_test_pred))\n",
    "\n",
    "    return CV_scores, r2, pair_best\n",
    "\n",
    "\n",
    "test_scores_xgb = []\n",
    "CV_scores_xgb = []\n",
    "for i in range(1,6):\n",
    "    CV_score, r2, pair_best = ML_pipeline_xgb(X,y,42*i,5)\n",
    "    test_scores_xgb += r2\n",
    "    CV_scores_xgb.append(CV_scores_xgb)\n",
    "    print(\"The best max_depth and sub sample and gamma on the {}th round: {}\".format(i, pair_best))\n",
    "    \n",
    "print('MSE:',np.around(np.mean(CV_scores_xgb),2), '+/-', np.around(np.std(CV_scores_xgb),2))\n",
    "print('test accuracy:',np.around(np.mean(test_scores_xgb),2), '+/-', np.around(np.std(test_scores_xgb),2))"
   ]
  },
  {
   "cell_type": "code",
   "execution_count": null,
   "metadata": {},
   "outputs": [],
   "source": [
    "# # Train an SVR\n",
    "# def ML_pipeline_kfold_svr(X,y,random_state,n_folds):\n",
    "#     X_other, X_test, y_other, y_test = train_test_split(X, y, test_size=0.2, \n",
    "#                                                         random_state = random_state)\n",
    "#     CV_scores = []\n",
    "#     test_scores = []\n",
    "#     kf = KFold(n_splits=n_folds, shuffle=True,random_state=random_state)\n",
    "#     for train_index, CV_index in kf.split(X_other,y_other):\n",
    "#         X_train, X_CV = X_other[train_index], X_other[CV_index]\n",
    "#         y_train, y_CV = y_other[train_index], y_other[CV_index]\n",
    "\n",
    "#         # tune svr hyper-parameter, gamma and c \n",
    "#         gammas= np.logspace(-9, 3, 13)\n",
    "#         Cs = np.logspace(1, 10, 10)\n",
    "# #         train_score = defaultdict(lambda: 0)\n",
    "#         CV_score = defaultdict(lambda: 0)\n",
    "#         regs = defaultdict(lambda: SVR(gamma = 1, C = 1, probability=True, random_state=random_state))\n",
    "#         for i,gamma_value in enumerate(gammas):\n",
    "#             for j,c in enumerate(Cs):\n",
    "#                 reg = SVR(gamma = gamma_value, C = c)\n",
    "#                 reg.fit(X_train, y_train)\n",
    "# #                 train_score[(i,j)] = accuracy_score(y_train, reg.predict(X_train))\n",
    "#                 CV_score[(i,j)] = mean_squared_error(y_CV, reg.predict(X_CV))\n",
    "#                 regs[(i,j)] = reg\n",
    "#         # find the best alpha in this fold\n",
    "#         best_CV_pair = min(CV_score, key=CV_score.get)\n",
    "#         best_gamma = gammas[best_CV_pair[0]]\n",
    "#         best_c = Cs[best_CV_pair[1]]\n",
    "#         # grab the best model\n",
    "#         reg = regs[best_CV_pair]\n",
    "#         CV_scores.append(np.min(CV_score))\n",
    "#         # calculate test score using thee best model\n",
    "#         test_scores.append(reg.score(X_test, y_test))\n",
    "    \n",
    "# #     print(\"best gamma is \", best_gamma)\n",
    "# #     print(\"best c is \", best_c)\n",
    "\n",
    "#     return best_gamma, best_c, min(CV_scores.values()), test_scores\n",
    "\n",
    "# test_scores_svr = []\n",
    "# for i in range(10):\n",
    "#     best_gamma, best_c, CV_scores, test_scores = ML_pipeline_kfold_svr(X,y,42*i,2)\n",
    "#     test_scores_svr.append(test_scores)\n",
    "#     print('Best gamma is {}. Best c is {}. MSE is {}. Best score is {}'.format(\n",
    "#         best_gamma, best_c, CV_scores, max(test_scores_svr)))\n",
    "# print(\"SVR best accuracy is \",np.around(np.mean(test_scores_svr),2), '+/-', np.around(np.std(test_scores_svr),2))"
   ]
  },
  {
   "cell_type": "code",
   "execution_count": null,
   "metadata": {},
   "outputs": [],
   "source": []
  }
 ],
 "metadata": {
  "kernelspec": {
   "display_name": "Python 3",
   "language": "python",
   "name": "python3"
  },
  "language_info": {
   "codemirror_mode": {
    "name": "ipython",
    "version": 3
   },
   "file_extension": ".py",
   "mimetype": "text/x-python",
   "name": "python",
   "nbconvert_exporter": "python",
   "pygments_lexer": "ipython3",
   "version": "3.7.3"
  }
 },
 "nbformat": 4,
 "nbformat_minor": 4
}
