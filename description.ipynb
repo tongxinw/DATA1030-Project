{
 "cells": [
  {
   "cell_type": "markdown",
   "metadata": {},
   "source": [
    "**DATA 1030 Project Discription**   \n",
    "09/30/2019   \n",
    "Tongxin Wang"
   ]
  },
  {
   "cell_type": "markdown",
   "metadata": {},
   "source": [
    "Dataset: Trending YouTube Video inthe US"
   ]
  },
  {
   "cell_type": "markdown",
   "metadata": {},
   "source": [
    "I. Problem to solve:     \n",
    "a. Is it possible for us to predict the count of views of a trending video based on the number of likes, dislikes and comments? If so, what is the relationship among these variables?      \n",
    "b. How will the catagories of video and publish time impact the number of views?\n",
    "\n",
    "This problem is a regression problem. YouTube has a large amount of daily active users, and there are business and marketing opportunities in the videos we watch daily. YouTubers are concerned with how to gain more views on their videos, and marketing department cares about which kind of videos are most popular, which means the advertisments are exposed to more targeted audiences. Analyzing the dataset allow us to find connections between publishing time and popularities, as well as popular catagories. We could also predict whether a video has high chance to become popular or not. "
   ]
  },
  {
   "cell_type": "markdown",
   "metadata": {},
   "source": [
    "II. Dataset discription:    \n",
    "a. This dataset contains 40946 rows and 16 features, which are the followings.    \n",
    "'video_id', 'trending_date', 'title', 'channel_title', 'category_id', 'publish_time', 'tags', 'views', 'likes', 'dislikes', 'comment_count', 'thumbnail_link','comments_disabled', 'ratings_disabled','video_error_or_removed', 'description'. In this project, we will only consider the columns 'video_id', 'category_id','publish_time','views', 'likes', 'dislikes', 'comment_count'. "
   ]
  },
  {
   "cell_type": "markdown",
   "metadata": {},
   "source": [
    "b. This dataset is retrived from Kaggle and it contains data from several countries, such as UK, Canada, Mexico, Japan, South Korea, France. etc. People has been using these datas to compare whether there are differences of popular videos among the aforementioned countries. Also, this dataset has been used for sentiment analysis of comments based on different countries via NLP (will not be discussed in this project). "
   ]
  },
  {
   "cell_type": "markdown",
   "metadata": {},
   "source": [
    "III. Preprocessing data     \n",
    "In this dataset, we will use MinMaxScaler to train the likes, dislikes and comment_count column as they are contineous features. The target variable is views, and it is not categorical, thus we will preprocess it later. "
   ]
  },
  {
   "cell_type": "code",
   "execution_count": 21,
   "metadata": {},
   "outputs": [],
   "source": [
    "import pandas as pd\n",
    "from sklearn.preprocessing import MinMaxScaler\n",
    "\n",
    "df = pd.read_csv('data/USvideos.csv')\n",
    "df = df[['video_id','category_id','publish_time','views', 'likes', 'dislikes', 'comment_count']]"
   ]
  },
  {
   "cell_type": "code",
   "execution_count": 22,
   "metadata": {},
   "outputs": [
    {
     "data": {
      "text/html": [
       "<div>\n",
       "<style scoped>\n",
       "    .dataframe tbody tr th:only-of-type {\n",
       "        vertical-align: middle;\n",
       "    }\n",
       "\n",
       "    .dataframe tbody tr th {\n",
       "        vertical-align: top;\n",
       "    }\n",
       "\n",
       "    .dataframe thead th {\n",
       "        text-align: right;\n",
       "    }\n",
       "</style>\n",
       "<table border=\"1\" class=\"dataframe\">\n",
       "  <thead>\n",
       "    <tr style=\"text-align: right;\">\n",
       "      <th></th>\n",
       "      <th>video_id</th>\n",
       "      <th>category_id</th>\n",
       "      <th>publish_time</th>\n",
       "      <th>views</th>\n",
       "      <th>likes</th>\n",
       "      <th>dislikes</th>\n",
       "      <th>comment_count</th>\n",
       "    </tr>\n",
       "  </thead>\n",
       "  <tbody>\n",
       "    <tr>\n",
       "      <th>0</th>\n",
       "      <td>2kyS6SvSYSE</td>\n",
       "      <td>22</td>\n",
       "      <td>2017-11-13T17:13:01.000Z</td>\n",
       "      <td>748374</td>\n",
       "      <td>0.010247</td>\n",
       "      <td>0.001771</td>\n",
       "      <td>0.011717</td>\n",
       "    </tr>\n",
       "    <tr>\n",
       "      <th>1</th>\n",
       "      <td>1ZAPwfrtAFY</td>\n",
       "      <td>24</td>\n",
       "      <td>2017-11-13T07:30:00.000Z</td>\n",
       "      <td>2418783</td>\n",
       "      <td>0.017312</td>\n",
       "      <td>0.003671</td>\n",
       "      <td>0.009330</td>\n",
       "    </tr>\n",
       "    <tr>\n",
       "      <th>2</th>\n",
       "      <td>5qpjK5DgCt4</td>\n",
       "      <td>23</td>\n",
       "      <td>2017-11-12T19:05:24.000Z</td>\n",
       "      <td>3191434</td>\n",
       "      <td>0.026013</td>\n",
       "      <td>0.003189</td>\n",
       "      <td>0.006008</td>\n",
       "    </tr>\n",
       "    <tr>\n",
       "      <th>3</th>\n",
       "      <td>puqaWrEC7tY</td>\n",
       "      <td>24</td>\n",
       "      <td>2017-11-13T11:00:04.000Z</td>\n",
       "      <td>343168</td>\n",
       "      <td>0.001812</td>\n",
       "      <td>0.000398</td>\n",
       "      <td>0.001576</td>\n",
       "    </tr>\n",
       "    <tr>\n",
       "      <th>4</th>\n",
       "      <td>d380meD0W0M</td>\n",
       "      <td>24</td>\n",
       "      <td>2017-11-12T18:01:41.000Z</td>\n",
       "      <td>2095731</td>\n",
       "      <td>0.023555</td>\n",
       "      <td>0.001188</td>\n",
       "      <td>0.012866</td>\n",
       "    </tr>\n",
       "  </tbody>\n",
       "</table>\n",
       "</div>"
      ],
      "text/plain": [
       "      video_id  category_id              publish_time    views     likes  \\\n",
       "0  2kyS6SvSYSE           22  2017-11-13T17:13:01.000Z   748374  0.010247   \n",
       "1  1ZAPwfrtAFY           24  2017-11-13T07:30:00.000Z  2418783  0.017312   \n",
       "2  5qpjK5DgCt4           23  2017-11-12T19:05:24.000Z  3191434  0.026013   \n",
       "3  puqaWrEC7tY           24  2017-11-13T11:00:04.000Z   343168  0.001812   \n",
       "4  d380meD0W0M           24  2017-11-12T18:01:41.000Z  2095731  0.023555   \n",
       "\n",
       "   dislikes  comment_count  \n",
       "0  0.001771       0.011717  \n",
       "1  0.003671       0.009330  \n",
       "2  0.003189       0.006008  \n",
       "3  0.000398       0.001576  \n",
       "4  0.001188       0.012866  "
      ]
     },
     "execution_count": 22,
     "metadata": {},
     "output_type": "execute_result"
    }
   ],
   "source": [
    "scaler = MinMaxScaler()\n",
    "mms = scaler.fit_transform(df[['likes', 'dislikes', 'comment_count']])\n",
    "df_mms = pd.DataFrame(mms, columns = ['likes', 'dislikes', 'comment_count'])\n",
    "df_other = df[['video_id','category_id','publish_time', 'views']]\n",
    "df_new = pd.concat([df_other, df_mms], axis = 1)\n",
    "\n",
    "df_new.head()"
   ]
  }
 ],
 "metadata": {
  "kernelspec": {
   "display_name": "Python 3",
   "language": "python",
   "name": "python3"
  },
  "language_info": {
   "codemirror_mode": {
    "name": "ipython",
    "version": 3
   },
   "file_extension": ".py",
   "mimetype": "text/x-python",
   "name": "python",
   "nbconvert_exporter": "python",
   "pygments_lexer": "ipython3",
   "version": "3.7.3"
  }
 },
 "nbformat": 4,
 "nbformat_minor": 4
}
