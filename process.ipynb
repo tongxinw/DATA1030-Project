{
 "cells": [
  {
   "cell_type": "code",
   "execution_count": 44,
   "metadata": {},
   "outputs": [],
   "source": [
    "import pandas as pd\n",
    "import numpy as np\n",
    "import matplotlib\n",
    "from matplotlib import pylab as plt\n",
    "from sklearn.preprocessing import MinMaxScaler\n",
    "from sklearn.preprocessing import OneHotEncoder\n",
    "from sklearn.preprocessing import LabelEncoder"
   ]
  },
  {
   "cell_type": "code",
   "execution_count": 35,
   "metadata": {},
   "outputs": [
    {
     "name": "stdout",
     "output_type": "stream",
     "text": [
      "Data Frame shape:  (40949, 15)\n",
      "trending_date               205\n",
      "title                      6455\n",
      "channel_title              2207\n",
      "category_id                  16\n",
      "publish_time               6269\n",
      "tags                       6055\n",
      "views                     40478\n",
      "likes                     29850\n",
      "dislikes                   8516\n",
      "comment_count             13773\n",
      "thumbnail_link             6352\n",
      "comments_disabled             2\n",
      "ratings_disabled              2\n",
      "video_error_or_removed        2\n",
      "description                6901\n",
      "dtype: int64\n",
      "Index(['trending_date', 'title', 'channel_title', 'category_id',\n",
      "       'publish_time', 'tags', 'views', 'likes', 'dislikes', 'comment_count',\n",
      "       'thumbnail_link', 'comments_disabled', 'ratings_disabled',\n",
      "       'video_error_or_removed', 'description'],\n",
      "      dtype='object')\n"
     ]
    }
   ],
   "source": [
    "# Let's load the data\n",
    "df = pd.read_csv('data/USvideos.csv')\n",
    "# df = df[['video_id','category_id','publish_time','views', 'likes', 'dislikes', 'comment_count']]\n",
    "\n",
    "# drop the 'video_id' since unique\n",
    "df.drop(columns=['video_id'],inplace=True)\n",
    "print(\"Data Frame shape: \", df.shape)\n",
    "print(df.nunique())\n",
    "print(df.columns)"
   ]
  },
  {
   "cell_type": "code",
   "execution_count": 50,
   "metadata": {},
   "outputs": [
    {
     "data": {
      "text/plain": [
       "trending_date               0\n",
       "title                       0\n",
       "channel_title               0\n",
       "category_id                 0\n",
       "publish_time                0\n",
       "tags                        0\n",
       "views                       0\n",
       "likes                       0\n",
       "dislikes                    0\n",
       "comment_count               0\n",
       "thumbnail_link              0\n",
       "comments_disabled           0\n",
       "ratings_disabled            0\n",
       "video_error_or_removed      0\n",
       "description               570\n",
       "category_name              57\n",
       "dtype: int64"
      ]
     },
     "execution_count": 50,
     "metadata": {},
     "output_type": "execute_result"
    }
   ],
   "source": [
    "df.isnull().sum()"
   ]
  },
  {
   "cell_type": "code",
   "execution_count": 37,
   "metadata": {},
   "outputs": [
    {
     "data": {
      "text/plain": [
       "Index(['trending_date', 'title', 'channel_title', 'category_id',\n",
       "       'publish_time', 'tags', 'views', 'likes', 'dislikes', 'comment_count',\n",
       "       'thumbnail_link', 'comments_disabled', 'ratings_disabled',\n",
       "       'video_error_or_removed', 'description', 'category_name'],\n",
       "      dtype='object')"
      ]
     },
     "execution_count": 37,
     "metadata": {},
     "output_type": "execute_result"
    }
   ],
   "source": [
    "# change catagory_id to catagory name\n",
    "df['category_name'] = np.nan\n",
    "\n",
    "df.loc[(df[\"category_id\"] == 1),\"category_name\"] = 'Film and Animation'\n",
    "df.loc[(df[\"category_id\"] == 2),\"category_name\"] = 'Cars and Vehicles'\n",
    "df.loc[(df[\"category_id\"] == 10),\"category_name\"] = 'Music'\n",
    "df.loc[(df[\"category_id\"] == 15),\"category_name\"] = 'Pets and Animals'\n",
    "df.loc[(df[\"category_id\"] == 17),\"category_name\"] = 'Sport'\n",
    "df.loc[(df[\"category_id\"] == 19),\"category_name\"] = 'Travel and Events'\n",
    "df.loc[(df[\"category_id\"] == 20),\"category_name\"] = 'Gaming'\n",
    "df.loc[(df[\"category_id\"] == 22),\"category_name\"] = 'People and Blogs'\n",
    "df.loc[(df[\"category_id\"] == 23),\"category_name\"] = 'Comedy'\n",
    "df.loc[(df[\"category_id\"] == 24),\"category_name\"] = 'Entertainment'\n",
    "df.loc[(df[\"category_id\"] == 25),\"category_name\"] = 'News and Politics'\n",
    "df.loc[(df[\"category_id\"] == 26),\"category_name\"] = 'How to and Style'\n",
    "df.loc[(df[\"category_id\"] == 27),\"category_name\"] = 'Education'\n",
    "df.loc[(df[\"category_id\"] == 28),\"category_name\"] = 'Science and Technology'\n",
    "df.loc[(df[\"category_id\"] == 29),\"category_name\"] = 'Non Profits and Activism'\n",
    "df.loc[(df[\"category_id\"] == 25),\"category_name\"] = 'News & Politics'\n",
    "\n",
    "df.columns"
   ]
  },
  {
   "cell_type": "code",
   "execution_count": 38,
   "metadata": {},
   "outputs": [],
   "source": [
    "# collect the various features\n",
    "# ['trending_date', 'title', 'channel_title', 'category_id',\n",
    "#        'publish_time', 'tags', 'views', 'likes', 'dislikes', 'comment_count',\n",
    "#        'thumbnail_link', 'comments_disabled', 'ratings_disabled',\n",
    "#        'video_error_or_removed', 'description', 'category_name']\n",
    "num_ftr = ['likes', 'dislikes', 'comment_count']\n",
    "cat_ftr = ['category_name']\n",
    "lb_ftr = ['comments_disabled', 'ratings_disabled', 'video_error_or_removed']\n",
    "y = df['views']"
   ]
  },
  {
   "cell_type": "code",
   "execution_count": 46,
   "metadata": {},
   "outputs": [
    {
     "data": {
      "text/html": [
       "<div>\n",
       "<style scoped>\n",
       "    .dataframe tbody tr th:only-of-type {\n",
       "        vertical-align: middle;\n",
       "    }\n",
       "\n",
       "    .dataframe tbody tr th {\n",
       "        vertical-align: top;\n",
       "    }\n",
       "\n",
       "    .dataframe thead th {\n",
       "        text-align: right;\n",
       "    }\n",
       "</style>\n",
       "<table border=\"1\" class=\"dataframe\">\n",
       "  <thead>\n",
       "    <tr style=\"text-align: right;\">\n",
       "      <th></th>\n",
       "      <th>category_id</th>\n",
       "      <th>publish_time</th>\n",
       "      <th>views</th>\n",
       "      <th>likes</th>\n",
       "      <th>dislikes</th>\n",
       "      <th>comment_count</th>\n",
       "    </tr>\n",
       "  </thead>\n",
       "  <tbody>\n",
       "    <tr>\n",
       "      <th>0</th>\n",
       "      <td>22</td>\n",
       "      <td>2017-11-13T17:13:01.000Z</td>\n",
       "      <td>748374</td>\n",
       "      <td>0.010247</td>\n",
       "      <td>0.001771</td>\n",
       "      <td>0.011717</td>\n",
       "    </tr>\n",
       "    <tr>\n",
       "      <th>1</th>\n",
       "      <td>24</td>\n",
       "      <td>2017-11-13T07:30:00.000Z</td>\n",
       "      <td>2418783</td>\n",
       "      <td>0.017312</td>\n",
       "      <td>0.003671</td>\n",
       "      <td>0.009330</td>\n",
       "    </tr>\n",
       "    <tr>\n",
       "      <th>2</th>\n",
       "      <td>23</td>\n",
       "      <td>2017-11-12T19:05:24.000Z</td>\n",
       "      <td>3191434</td>\n",
       "      <td>0.026013</td>\n",
       "      <td>0.003189</td>\n",
       "      <td>0.006008</td>\n",
       "    </tr>\n",
       "    <tr>\n",
       "      <th>3</th>\n",
       "      <td>24</td>\n",
       "      <td>2017-11-13T11:00:04.000Z</td>\n",
       "      <td>343168</td>\n",
       "      <td>0.001812</td>\n",
       "      <td>0.000398</td>\n",
       "      <td>0.001576</td>\n",
       "    </tr>\n",
       "    <tr>\n",
       "      <th>4</th>\n",
       "      <td>24</td>\n",
       "      <td>2017-11-12T18:01:41.000Z</td>\n",
       "      <td>2095731</td>\n",
       "      <td>0.023555</td>\n",
       "      <td>0.001188</td>\n",
       "      <td>0.012866</td>\n",
       "    </tr>\n",
       "  </tbody>\n",
       "</table>\n",
       "</div>"
      ],
      "text/plain": [
       "   category_id              publish_time    views     likes  dislikes  \\\n",
       "0           22  2017-11-13T17:13:01.000Z   748374  0.010247  0.001771   \n",
       "1           24  2017-11-13T07:30:00.000Z  2418783  0.017312  0.003671   \n",
       "2           23  2017-11-12T19:05:24.000Z  3191434  0.026013  0.003189   \n",
       "3           24  2017-11-13T11:00:04.000Z   343168  0.001812  0.000398   \n",
       "4           24  2017-11-12T18:01:41.000Z  2095731  0.023555  0.001188   \n",
       "\n",
       "   comment_count  \n",
       "0       0.011717  \n",
       "1       0.009330  \n",
       "2       0.006008  \n",
       "3       0.001576  \n",
       "4       0.012866  "
      ]
     },
     "execution_count": 46,
     "metadata": {},
     "output_type": "execute_result"
    }
   ],
   "source": [
    "scaler = MinMaxScaler()\n",
    "le = LabelEncoder()\n",
    "mms = scaler.fit_transform(df[['likes', 'dislikes', 'comment_count']])\n",
    "df_mms = pd.DataFrame(mms, columns = ['likes', 'dislikes', 'comment_count'])\n",
    "df_other = df[['category_id','publish_time', 'views']]\n",
    "df_new = pd.concat([df_other, df_mms], axis = 1)\n",
    "\n",
    "df_new.head()"
   ]
  },
  {
   "cell_type": "code",
   "execution_count": null,
   "metadata": {},
   "outputs": [],
   "source": []
  },
  {
   "cell_type": "code",
   "execution_count": 43,
   "metadata": {},
   "outputs": [
    {
     "name": "stdout",
     "output_type": "stream",
     "text": [
      "Entertainment               9964\n",
      "Music                       6472\n",
      "How to and Style            4146\n",
      "Comedy                      3457\n",
      "People and Blogs            3210\n",
      "News & Politics             2487\n",
      "Science and Technology      2401\n",
      "Film and Animation          2345\n",
      "Sport                       2174\n",
      "Education                   1656\n",
      "Pets and Animals             920\n",
      "Gaming                       817\n",
      "Travel and Events            402\n",
      "Cars and Vehicles            384\n",
      "Non Profits and Activism      57\n",
      "Name: category_name, dtype: int64\n"
     ]
    },
    {
     "data": {
      "image/png": "[encoded data removed]",
      "text/plain": [
       "<Figure size 432x288 with 1 Axes>"
      ]
     },
     "metadata": {
      "needs_background": "light"
     },
     "output_type": "display_data"
    }
   ],
   "source": [
    "# what is the ranking of catagories...?\n",
    "\n",
    "print(df['category_name'].value_counts())\n",
    "# pd.value_counts(df['category_name'],normalize=False).plot.bar()\n",
    "pd.value_counts(df['category_name'],normalize=True).plot.bar()\n",
    "plt.ylabel('count')\n",
    "plt.show()"
   ]
  },
  {
   "cell_type": "code",
   "execution_count": null,
   "metadata": {},
   "outputs": [],
   "source": []
  }
 ],
 "metadata": {
  "kernelspec": {
   "display_name": "Python 3",
   "language": "python",
   "name": "python3"
  },
  "language_info": {
   "codemirror_mode": {
    "name": "ipython",
    "version": 3
   },
   "file_extension": ".py",
   "mimetype": "text/x-python",
   "name": "python",
   "nbconvert_exporter": "python",
   "pygments_lexer": "ipython3",
   "version": "3.7.3"
  }
 },
 "nbformat": 4,
 "nbformat_minor": 4
}
